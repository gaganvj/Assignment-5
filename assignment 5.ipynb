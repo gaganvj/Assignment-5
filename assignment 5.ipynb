{
 "cells": [
  {
   "cell_type": "markdown",
   "metadata": {},
   "source": [
    "Assignment 1"
   ]
  },
  {
   "cell_type": "code",
   "execution_count": 3,
   "metadata": {},
   "outputs": [
    {
     "name": "stdout",
     "output_type": "stream",
     "text": [
      "[56, 56, 10, 4, 4, 3, 2, 2, 1, 1, 1, 0, 0, 0, 0, 0]\n"
     ]
    }
   ],
   "source": [
    "list1=[0,1,2,10,4,1,0,56,2,0,1,3,0,56,0,4]\n",
    "list1.sort(reverse=1)\n",
    "print(list1)"
   ]
  },
  {
   "cell_type": "markdown",
   "metadata": {},
   "source": [
    "Assignment 2"
   ]
  },
  {
   "cell_type": "code",
   "execution_count": 14,
   "metadata": {},
   "outputs": [
    {
     "name": "stdout",
     "output_type": "stream",
     "text": [
      "The combined sorted list is : [5, 10, 15, 20, 25, 35, 40, 45, 60, 60, 70, 80]\n"
     ]
    }
   ],
   "source": [
    "# one way to do it---> 1st method\n",
    "list1 = [10,20,40,60,70,80]\n",
    "\n",
    "list2 = [5,15,25,35,45,60] \n",
    "res = sorted(list1 +list2) \n",
    "print (\"The combined sorted list is : \" + str(res)) "
   ]
  },
  {
   "cell_type": "code",
   "execution_count": 18,
   "metadata": {},
   "outputs": [
    {
     "name": "stdout",
     "output_type": "stream",
     "text": [
      "The combined sorted list is : [5, 10, 15, 20, 25, 35, 40, 45, 60, 70, 80, 60]\n"
     ]
    }
   ],
   "source": [
    "# 2nd method\n",
    "list1 = [10,20,40,60,70,80]\n",
    "list2 = [5,15,25,35,45,60] \n",
    "  \n",
    "res = [] \n",
    "i, j = 0, 0\n",
    "  \n",
    "while i < size_1 and j < size_2: \n",
    "    if list1[i] < list2[j]: \n",
    "      res.append(list1[i]) \n",
    "      i += 1\n",
    "  \n",
    "    else: \n",
    "      res.append(list2[j]) \n",
    "      j += 1\n",
    "  \n",
    "res = res + list1[i:] + list2[j:] \n",
    "\n",
    "print (\"The combined sorted list is : \" + str(res)) "
   ]
  },
  {
   "cell_type": "code",
   "execution_count": null,
   "metadata": {},
   "outputs": [],
   "source": []
  }
 ],
 "metadata": {
  "kernelspec": {
   "display_name": "Python 3",
   "language": "python",
   "name": "python3"
  },
  "language_info": {
   "codemirror_mode": {
    "name": "ipython",
    "version": 3
   },
   "file_extension": ".py",
   "mimetype": "text/x-python",
   "name": "python",
   "nbconvert_exporter": "python",
   "pygments_lexer": "ipython3",
   "version": "3.7.3"
  }
 },
 "nbformat": 4,
 "nbformat_minor": 2
}
